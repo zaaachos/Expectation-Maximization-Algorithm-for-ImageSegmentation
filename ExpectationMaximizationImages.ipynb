{
 "cells": [
  {
   "cell_type": "code",
   "execution_count": 1,
   "metadata": {},
   "outputs": [],
   "source": [
    "from GaussianUtils import *\n",
    "from PIL import Image\n",
    "from matplotlib import image\n",
    "from matplotlib import pyplot"
   ]
  },
  {
   "cell_type": "markdown",
   "metadata": {},
   "source": [
    "# Functions to load/save our images "
   ]
  },
  {
   "cell_type": "code",
   "execution_count": 2,
   "metadata": {},
   "outputs": [],
   "source": [
    "def load_image(img) :\n",
    "    image = Image.open(img)\n",
    "    image.load()\n",
    "    data = np.asarray(image, dtype=\"int32\" )\n",
    "    return data\n",
    "\n",
    "def save_image( data, outfilename ) :\n",
    "    img = Image.fromarray( np.asarray( np.clip(data,0,255), dtype=\"uint8\"), \"RGB\")\n",
    "    img.save( outfilename )"
   ]
  },
  {
   "cell_type": "code",
   "execution_count": 3,
   "metadata": {},
   "outputs": [
    {
     "name": "stdout",
     "output_type": "stream",
     "text": [
      "379500\n"
     ]
    }
   ],
   "source": [
    "imageData = load_image('im.jpg')\n",
    "height, width, pixels = imageData.shape\n",
    "print(height*width)"
   ]
  },
  {
   "cell_type": "code",
   "execution_count": 4,
   "metadata": {},
   "outputs": [
    {
     "name": "stdout",
     "output_type": "stream",
     "text": [
      "(379500, 3)\n"
     ]
    }
   ],
   "source": [
    "imageData = imageData.reshape((height*width, pixels))\n",
    "imageData = imageData.astype(float)/255\n",
    "print(imageData.shape)\n",
    "x_true = imageData"
   ]
  },
  {
   "cell_type": "markdown",
   "metadata": {},
   "source": [
    "## Image Segmentation for different Ks ( prints the error of reconstruction as well )."
   ]
  },
  {
   "cell_type": "code",
   "execution_count": 5,
   "metadata": {},
   "outputs": [
    {
     "name": "stdout",
     "output_type": "stream",
     "text": [
      "Reconstruction error at K = 1 -->  0.17303304487093304\n",
      "Reconstruction error at K = 2 -->  0.09146756998180702\n",
      "Reconstruction error at K = 4 -->  0.053652006835015656\n",
      "Reconstruction error at K = 8 -->  0.03254491248255033\n",
      "Reconstruction error at K = 16 -->  0.024316967623008768\n",
      "Reconstruction error at K = 32 -->  0.016766211379170327\n",
      "Reconstruction error at K = 64 -->  0.013193268116753292\n",
      "Wall time: 36min\n"
     ]
    }
   ],
   "source": [
    "%%time\n",
    "def test_K_images():\n",
    "    for K in [1,2,4,8,16,32,64]:\n",
    "        current_image_data, current_x_true = imageData, x_true\n",
    "        test = GaussianUtils(K,current_image_data, current_x_true)\n",
    "        gamma, mean = test.ExpectationMaximizationAlgorithm(0.01, 200)\n",
    "        mean = mean * 255\n",
    "        max_likelihood = np.argmax(gamma, axis=1)\n",
    "        x_r = np.array([mean[i] for i in max_likelihood])\n",
    "        error = test.error_reconstruction(x_r)\n",
    "        print('Reconstruction error at K = '+str(K)+' --> ', error)\n",
    "        x_r = x_r.reshape((height, width, current_image_data.shape[1]))\n",
    "        save_image(x_r,'imageK_'+str(K)+'.jpg')\n",
    "        \n",
    "        \n",
    "test_K_images()"
   ]
  }
 ],
 "metadata": {
  "kernelspec": {
   "display_name": "Python 3",
   "language": "python",
   "name": "python3"
  },
  "language_info": {
   "codemirror_mode": {
    "name": "ipython",
    "version": 3
   },
   "file_extension": ".py",
   "mimetype": "text/x-python",
   "name": "python",
   "nbconvert_exporter": "python",
   "pygments_lexer": "ipython3",
   "version": "3.8.5"
  }
 },
 "nbformat": 4,
 "nbformat_minor": 4
}
